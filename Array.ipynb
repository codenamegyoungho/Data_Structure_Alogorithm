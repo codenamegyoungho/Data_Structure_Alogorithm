{
 "cells": [
  {
   "cell_type": "markdown",
   "metadata": {},
   "source": [
    "### 1. Array \n",
    "#### Excercises\n"
   ]
  },
  {
   "cell_type": "markdown",
   "metadata": {},
   "source": [
    "\n",
    "1. Let us say your expense for every month are listed below,\n",
    "January - 2200\n",
    "February - 2350\n",
    "March - 2600\n",
    "April - 2130\n",
    "May - 2190\n",
    "\n",
    "--> Create a list to store these monthly expenses and using that find out,\n",
    "\n",
    "go to find \n",
    "1. In Feb, how many dollars you spent extra compare to January?\n",
    "2. Find out your total expense in first quarter (first three months) of the year.\n",
    "3. Find out if you spent exactly 2000 dollars in any month\n",
    "4. June month just finished and your expense is 1980 dollar. Add this item to our monthly expense list\n",
    "5. You returned an item that you bought in a month of April and\n",
    "got a refund of 200$. Make a correction to your monthly expense list\n",
    "based on this"
   ]
  },
  {
   "cell_type": "code",
   "execution_count": 1,
   "metadata": {},
   "outputs": [
    {
     "name": "stdout",
     "output_type": "stream",
     "text": [
      "Q1 : 150 dollars\n",
      "Q2 : 7150 dollars\n",
      "Q3 :\n",
      "January not used 2000 dollars\n",
      "February not used 2000 dollars\n",
      "March not used 2000 dollars\n",
      "April not used 2000 dollars\n",
      "May not used 2000 dollars\n",
      "Q4 : {'January': 2200, 'February': 2350, 'March': 2600, 'April': 2130, 'May': 2190, 'June': 1980}\n",
      "Q5 : {'January': 2200, 'February': 2350, 'March': 2600, 'April': 1930, 'May': 2190, 'June': 1980}\n"
     ]
    }
   ],
   "source": [
    "month_exp = {\"January\":2200,\"February\":2350,\"March\":2600,\"April\":2130,\"May\":2190}\n",
    "print(f\"Q1 : {month_exp['February']-month_exp['January']} dollars\")\n",
    "print(f\"Q2 : {month_exp['January'] + month_exp['February'] + month_exp['March']} dollars\")\n",
    "\n",
    "print(\"Q3 :\")\n",
    "for i in month_exp:\n",
    "    if month_exp[i] == 2000:\n",
    "        print(f\"{i} used 2000 dollars\")\n",
    "    else:\n",
    "        print(f\"{i} not used 2000 dollars\")\n",
    "\n",
    "\n",
    "month_exp[\"June\"] = 1980 \n",
    "print(f\"Q4 : {month_exp}\")\n",
    "\n",
    "month_exp[\"April\"] = month_exp[\"April\"] - 200 \n",
    "print(f\"Q5 : {month_exp}\")"
   ]
  },
  {
   "cell_type": "markdown",
   "metadata": {},
   "source": [
    "##### 2. You have a list of your favourite marvel super heros. \n",
    "heros=['spider man','thor','hulk','iron man','captain america']"
   ]
  },
  {
   "cell_type": "code",
   "execution_count": 2,
   "metadata": {},
   "outputs": [
    {
     "name": "stdout",
     "output_type": "stream",
     "text": [
      "5\n",
      "['spider man', 'thor', 'hulk', 'iron man', 'captain america', 'black panther']\n",
      "['spider man', 'thor', 'hulk', 'black panther', 'iron man', 'captain america']\n",
      "['spider man', 'doctorstrange', 'black panther', 'iron man', 'captain america']\n"
     ]
    },
    {
     "data": {
      "text/plain": [
       "['black panther', 'captain america', 'doctorstrange', 'iron man', 'spider man']"
      ]
     },
     "execution_count": 2,
     "metadata": {},
     "output_type": "execute_result"
    }
   ],
   "source": [
    "heros=['spider man','thor','hulk','iron man','captain america']\n",
    "print(len(heros))\n",
    "\n",
    "heros.append(\"black panther\")\n",
    "print(heros)\n",
    "\n",
    "heros.pop()\n",
    "heros.insert(3,\"black panther\")\n",
    "print(heros)\n",
    "\n",
    "heros[1:3] = [\"doctorstrange\"]\n",
    "print(heros)\n",
    "dir(heros)\n",
    "heros.sort()\n",
    "heros\n"
   ]
  },
  {
   "cell_type": "markdown",
   "metadata": {},
   "source": [
    "##### 3. Create a list of all odd numbers between 1 and a max number. Max number is something you need to take from a user using input() function"
   ]
  },
  {
   "cell_type": "code",
   "execution_count": 3,
   "metadata": {},
   "outputs": [
    {
     "name": "stdout",
     "output_type": "stream",
     "text": [
      "[1, 3, 5, 7, 9]\n"
     ]
    }
   ],
   "source": [
    "max_inp = int(input(\"Enter max number:\"))\n",
    "min_num = 1 \n",
    "odd_list = []\n",
    "for i in range(1,max_inp):\n",
    "    if i % 2 != 0:\n",
    "        odd_list.append(i)\n",
    "print(odd_list)\n"
   ]
  }
 ],
 "metadata": {
  "kernelspec": {
   "display_name": "diabets",
   "language": "python",
   "name": "python3"
  },
  "language_info": {
   "codemirror_mode": {
    "name": "ipython",
    "version": 3
   },
   "file_extension": ".py",
   "mimetype": "text/x-python",
   "name": "python",
   "nbconvert_exporter": "python",
   "pygments_lexer": "ipython3",
   "version": "3.9.7"
  }
 },
 "nbformat": 4,
 "nbformat_minor": 2
}
